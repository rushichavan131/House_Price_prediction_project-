{
  "nbformat": 4,
  "nbformat_minor": 0,
  "metadata": {
    "colab": {
      "provenance": []
    },
    "kernelspec": {
      "name": "python3",
      "display_name": "Python 3"
    },
    "language_info": {
      "name": "python"
    }
  },
  "cells": [
    {
      "cell_type": "code",
      "source": [
        "!pip install pyspark py4j\n",
        "from pyspark.sql import SparkSession\n",
        "spark = SparkSession.builder.appName(\"Basics\").getOrCreate()\n",
        "from pyspark.ml import Pipeline\n",
        "from pyspark.ml.feature import StringIndexer, OneHotEncoder, VectorAssembler\n",
        "from pyspark.ml.regression import LinearRegression\n",
        "\n",
        "from google.colab import drive\n",
        "drive.mount('/content/drive')\n",
        "\n",
        "file_path = \"/content/drive/MyDrive/Project Dataset/modified_data1.csv\"\n",
        "\n",
        "housing = spark.read.csv(file_path, header=True, inferSchema=True)\n",
        "\n",
        "housing.show()\n",
        "\n",
        "# Define stages\n",
        "city_indexer = StringIndexer(inputCol=\"city\", outputCol=\"cityIndex\")\n",
        "state_indexer = StringIndexer(inputCol=\"state\", outputCol=\"stateIndex\")\n",
        "city_encoder = OneHotEncoder(inputCols=[\"cityIndex\"], outputCols=[\"cityVec\"])\n",
        "state_encoder = OneHotEncoder(inputCols=[\"stateIndex\"], outputCols=[\"stateVec\"])\n",
        "assembler = VectorAssembler(inputCols=[\"bed\", \"bath\", \"house_size\", \"cityVec\", \"stateVec\"], outputCol=\"features\")\n",
        "lr = LinearRegression(featuresCol=\"features\", labelCol=\"price\")\n",
        "\n",
        "# Create the pipeline\n",
        "pipeline = Pipeline(stages=[city_indexer, state_indexer, city_encoder, state_encoder, assembler, lr])\n",
        "\n",
        "# Fit the pipeline\n",
        "model = pipeline.fit(housing)"
      ],
      "metadata": {
        "colab": {
          "base_uri": "https://localhost:8080/"
        },
        "id": "-JrI6ykysWXB",
        "outputId": "08f90fbc-4f04-417c-8291-37ca3caf0be4"
      },
      "execution_count": 72,
      "outputs": [
        {
          "output_type": "stream",
          "name": "stdout",
          "text": [
            "Requirement already satisfied: pyspark in /usr/local/lib/python3.10/dist-packages (3.5.2)\n",
            "Requirement already satisfied: py4j in /usr/local/lib/python3.10/dist-packages (0.10.9.7)\n",
            "Drive already mounted at /content/drive; to attempt to forcibly remount, call drive.mount(\"/content/drive\", force_remount=True).\n",
            "+--------+--------+---+----+-------------+-----------+----------+\n",
            "|  status|   price|bed|bath|         city|      state|house_size|\n",
            "+--------+--------+---+----+-------------+-----------+----------+\n",
            "|for_sale|105000.0|  3|   2|     Adjuntas|Puerto Rico|     920.0|\n",
            "|for_sale| 80000.0|  4|   2|     Adjuntas|Puerto Rico|    1527.0|\n",
            "|for_sale| 67000.0|  2|   1|   Juana Diaz|Puerto Rico|     748.0|\n",
            "|for_sale|145000.0|  4|   2|        Ponce|Puerto Rico|    1800.0|\n",
            "|for_sale|179000.0|  4|   3|San Sebastian|Puerto Rico|    2520.0|\n",
            "|for_sale| 50000.0|  3|   1|       Ciales|Puerto Rico|    2040.0|\n",
            "|for_sale| 71600.0|  3|   2|        Ponce|Puerto Rico|    1050.0|\n",
            "|for_sale|100000.0|  2|   1|        Ponce|Puerto Rico|    1092.0|\n",
            "|for_sale|150000.0|  3|   2|   Juana Diaz|Puerto Rico|    1045.0|\n",
            "|for_sale| 79000.0|  5|   2|       Utuado|Puerto Rico|    1620.0|\n",
            "|for_sale|649000.0|  5|   5|        Ponce|Puerto Rico|    2677.0|\n",
            "|for_sale|120000.0|  3|   2|        Yauco|Puerto Rico|    1100.0|\n",
            "|for_sale|235000.0|  4|   4|     Mayaguez|Puerto Rico|    3450.0|\n",
            "|for_sale|105000.0|  3|   2|        Ponce|Puerto Rico|    1500.0|\n",
            "|for_sale| 50000.0|  2|   1|        Yauco|Puerto Rico|     621.0|\n",
            "|for_sale|122500.0|  3|   2|        Yauco|Puerto Rico|    1118.0|\n",
            "|for_sale|255000.0|  3|   2|San Sebastian|Puerto Rico|    1500.0|\n",
            "|for_sale|425000.0|  4|   3|        Ponce|Puerto Rico|    3000.0|\n",
            "|for_sale| 93000.0|  4|   2|   Guayanilla|Puerto Rico|    1300.0|\n",
            "|for_sale| 75000.0|  4|   2|       Manati|Puerto Rico|    1080.0|\n",
            "+--------+--------+---+----+-------------+-----------+----------+\n",
            "only showing top 20 rows\n",
            "\n"
          ]
        }
      ]
    },
    {
      "cell_type": "code",
      "source": [
        "# Getting user inputs for predictions\n",
        "bed = int(input(\"Enter number of bedrooms: \"))\n",
        "bath = int(input(\"Enter number of bathrooms: \"))\n",
        "house_size = int(input(\"Enter house size (in square feet): \"))\n",
        "city = input(\"Enter city: \")\n",
        "state = input(\"Enter state: \")"
      ],
      "metadata": {
        "colab": {
          "base_uri": "https://localhost:8080/"
        },
        "id": "OVjPo0bxwVhw",
        "outputId": "5208db60-6132-4665-b93f-3fcef1c4698d"
      },
      "execution_count": 78,
      "outputs": [
        {
          "name": "stdout",
          "output_type": "stream",
          "text": [
            "Enter number of bedrooms: 3\n",
            "Enter number of bathrooms: 3\n",
            "Enter house size (in square feet): 1200\n",
            "Enter city: New York\n",
            "Enter state: New York\n"
          ]
        }
      ]
    },
    {
      "cell_type": "code",
      "source": [
        "# Create a Spark DataFrame from user input\n",
        "input_data = spark.createDataFrame([(bed, bath, house_size, city, state)],\n",
        "                                  ['bed', 'bath', 'house_size', 'city', 'state'])\n",
        "\n",
        "# Make predictions\n",
        "predictions = model.transform(input_data)\n",
        "\n",
        "# Extract the predicted price\n",
        "predicted_price = predictions.select(\"prediction\").collect()[0][0]\n",
        "\n",
        "print(\"Approx Predicted price (in dollers):\", predicted_price)"
      ],
      "metadata": {
        "colab": {
          "base_uri": "https://localhost:8080/"
        },
        "id": "SBbzJOvCwYRA",
        "outputId": "54ee3e58-4c66-4f0a-91a7-6dd7d834cc7c"
      },
      "execution_count": 79,
      "outputs": [
        {
          "output_type": "stream",
          "name": "stdout",
          "text": [
            "Approx Predicted price (in dollers): 566488.6074869868\n"
          ]
        }
      ]
    },
    {
      "cell_type": "code",
      "source": [],
      "metadata": {
        "id": "TW0MXRqExbDd"
      },
      "execution_count": null,
      "outputs": []
    }
  ]
}